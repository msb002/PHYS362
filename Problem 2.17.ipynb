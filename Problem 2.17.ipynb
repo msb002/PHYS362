{
 "cells": [
  {
   "cell_type": "markdown",
   "metadata": {},
   "source": [
    "# Problem 2.17\n",
    "This problem will explore more useful theorems involving Hermite Polynomials:\n",
    "1. The Rodrigues formula says that $$H_n(\\xi) = (-1)^n e^ {\\xi^2} (d/d\\xi)^n e^{-\\xi^2}$$\n",
    "Use this to derive $H_3$ and $H_4$\n",
    "\n",
    "2. The following recursion relation gives you $H_{n+1}$ in terms of two preceding Hermite Polynomials:$$H_{n+1} (\\xi) = 2\\xi H_n (\\xi) - 2nH_{n-1} (\\xi)$$\n",
    "Use it, with the answer in 1. to obtain $H_5$ and $H_6$\n",
    "\n",
    "3. If you differentiate an $n$th-order polynomial, you get a polynomial of order $(n-1)$. For the Hermite polynomials, in fact, $$dH_n/d\\xi = 2nH_{n-1}(\\xi)$$\n",
    "Check this by differentiating $H_5$ and $H_6$\n",
    "\n",
    "4. $H_n(\\xi)$ is the $n$th z-derivative, at z=0, of the generating function $e^{-z^2+2z\\xi}$; or to put it another way, it is the coefficient of $z^n/n!$ in the taylor series expansion for this function: $$e^{-z^2+2z\\xi} = \\sum^\\infty_{n=0} (z^n/n!) H_n(\\xi)$$\n",
    "Use this to derive $H_1$, $H_2$, and $H_3$."
   ]
  },
  {
   "cell_type": "code",
   "execution_count": 1,
   "metadata": {
    "collapsed": false
   },
   "outputs": [],
   "source": [
    "import sympy as sp\n",
    "from sympy.physics.quantum.constants import hbar\n",
    "sp.init_printing()\n",
    "\n",
    "xi = sp.symbols('xi')\n",
    "\n",
    "def Hn(n):\n",
    "    Hn = ((-1)**n)*sp.exp(xi**2)*(sp.diff(sp.exp(-xi**2), xi, n))\n",
    "    return Hn"
   ]
  },
  {
   "cell_type": "markdown",
   "metadata": {},
   "source": [
    "I initially tried to use the nth derivative with n as a variable, to use func.subs(n, 3) for the third hermite polynomial. Unfortunately it returned the differential returned 0 each time. So I instead will use Hn as a function and just find $H_n(3)$ and $H_n(4)$."
   ]
  },
  {
   "cell_type": "code",
   "execution_count": 2,
   "metadata": {
    "collapsed": false
   },
   "outputs": [
    {
     "data": {
      "image/png": "[encoded data removed]",
      "text/latex": [
       "$$8 \\xi^{3} - 12 \\xi$$"
      ],
      "text/plain": [
       "   3       \n",
       "8⋅ξ  - 12⋅ξ"
      ]
     },
     "execution_count": 2,
     "metadata": {},
     "output_type": "execute_result"
    }
   ],
   "source": [
    "sp.simplify(Hn(3))"
   ]
  },
  {
   "cell_type": "code",
   "execution_count": 3,
   "metadata": {
    "collapsed": false
   },
   "outputs": [
    {
     "data": {
      "image/png": "[encoded data removed]",
      "text/latex": [
       "$$16 \\xi^{4} - 48 \\xi^{2} + 12$$"
      ],
      "text/plain": [
       "    4       2     \n",
       "16⋅ξ  - 48⋅ξ  + 12"
      ]
     },
     "execution_count": 3,
     "metadata": {},
     "output_type": "execute_result"
    }
   ],
   "source": [
    "Hn(4)"
   ]
  },
  {
   "cell_type": "markdown",
   "metadata": {},
   "source": [
    "This matches the table of Hermite Polynomials. Cool.\n",
    "As for the recursion formula, I can use my Hn function in a new recurion function which will find $H_n$ from $H_{n-1}$ and $H_{n-2}$"
   ]
  },
  {
   "cell_type": "code",
   "execution_count": 4,
   "metadata": {
    "collapsed": true
   },
   "outputs": [],
   "source": [
    "def Hrec(n):\n",
    "    H = (2*xi*Hn(n-1))-(2*(n-1)*Hn(n-2))\n",
    "    return H"
   ]
  },
  {
   "cell_type": "code",
   "execution_count": 5,
   "metadata": {
    "collapsed": false
   },
   "outputs": [
    {
     "data": {
      "image/png": "[encoded data removed]",
      "text/latex": [
       "$$32 \\xi^{5} - 160 \\xi^{3} + 120 \\xi$$"
      ],
      "text/plain": [
       "    5        3        \n",
       "32⋅ξ  - 160⋅ξ  + 120⋅ξ"
      ]
     },
     "execution_count": 5,
     "metadata": {},
     "output_type": "execute_result"
    }
   ],
   "source": [
    "sp.simplify(Hrec(5))"
   ]
  },
  {
   "cell_type": "code",
   "execution_count": 6,
   "metadata": {
    "collapsed": false
   },
   "outputs": [
    {
     "data": {
      "image/png": "[encoded data removed]",
      "text/latex": [
       "$$32 \\xi^{5} - 160 \\xi^{3} + 120 \\xi$$"
      ],
      "text/plain": [
       "    5        3        \n",
       "32⋅ξ  - 160⋅ξ  + 120⋅ξ"
      ]
     },
     "execution_count": 6,
     "metadata": {},
     "output_type": "execute_result"
    }
   ],
   "source": [
    "sp.simplify(Hn(5))"
   ]
  },
  {
   "cell_type": "code",
   "execution_count": 7,
   "metadata": {
    "collapsed": false
   },
   "outputs": [
    {
     "data": {
      "image/png": "[encoded data removed]",
      "text/latex": [
       "$$64 \\xi^{6} - 480 \\xi^{4} + 720 \\xi^{2} - 120$$"
      ],
      "text/plain": [
       "    6        4        2      \n",
       "64⋅ξ  - 480⋅ξ  + 720⋅ξ  - 120"
      ]
     },
     "execution_count": 7,
     "metadata": {},
     "output_type": "execute_result"
    }
   ],
   "source": [
    "sp.simplify(Hrec(6))"
   ]
  },
  {
   "cell_type": "code",
   "execution_count": 8,
   "metadata": {
    "collapsed": false
   },
   "outputs": [
    {
     "data": {
      "image/png": "[encoded data removed]",
      "text/latex": [
       "$$64 \\xi^{6} - 480 \\xi^{4} + 720 \\xi^{2} - 120$$"
      ],
      "text/plain": [
       "    6        4        2      \n",
       "64⋅ξ  - 480⋅ξ  + 720⋅ξ  - 120"
      ]
     },
     "execution_count": 8,
     "metadata": {},
     "output_type": "execute_result"
    }
   ],
   "source": [
    "Hn(6)"
   ]
  },
  {
   "cell_type": "markdown",
   "metadata": {},
   "source": [
    "The table in the book provides $H_{0thru5}$ which I used to confirm that my Rodrigues formula is correct. Then I can compare $H_6$ from the recursion formula with $H_6$ from Rodrigues formula and trust that if they match they are correct."
   ]
  },
  {
   "cell_type": "markdown",
   "metadata": {},
   "source": [
    "If we simplify this expression and instead solve the equation for $H_{n-1}$, its much simpler to compute."
   ]
  },
  {
   "cell_type": "code",
   "execution_count": 9,
   "metadata": {
    "collapsed": true
   },
   "outputs": [],
   "source": [
    "def Hdiff(n):\n",
    "    H = sp.diff(Hn(n),xi)/(2*n)\n",
    "    return H"
   ]
  },
  {
   "cell_type": "code",
   "execution_count": 10,
   "metadata": {
    "collapsed": false
   },
   "outputs": [
    {
     "data": {
      "image/png": "[encoded data removed]",
      "text/latex": [
       "$$32 \\xi^{5} - 160 \\xi^{3} + 120 \\xi$$"
      ],
      "text/plain": [
       "    5        3        \n",
       "32⋅ξ  - 160⋅ξ  + 120⋅ξ"
      ]
     },
     "execution_count": 10,
     "metadata": {},
     "output_type": "execute_result"
    }
   ],
   "source": [
    "Hdiff(6)"
   ]
  },
  {
   "cell_type": "code",
   "execution_count": 11,
   "metadata": {
    "collapsed": false
   },
   "outputs": [
    {
     "data": {
      "image/png": "[encoded data removed]",
      "text/latex": [
       "$$16 \\xi^{4} - 48 \\xi^{2} + 12$$"
      ],
      "text/plain": [
       "    4       2     \n",
       "16⋅ξ  - 48⋅ξ  + 12"
      ]
     },
     "execution_count": 11,
     "metadata": {},
     "output_type": "execute_result"
    }
   ],
   "source": [
    "sp.simplify(Hdiff(5))"
   ]
  },
  {
   "cell_type": "markdown",
   "metadata": {},
   "source": [
    "Yup this method provides the same results as all the previous ones. :)"
   ]
  },
  {
   "cell_type": "code",
   "execution_count": 14,
   "metadata": {
    "collapsed": false
   },
   "outputs": [],
   "source": [
    "def Hsum(n):\n",
    "    z = sp.symbols('z')\n",
    "    H = sp.diff(sp.exp(-z**2+2*z*xi), z, n)\n",
    "    H = H.subs(z,0)\n",
    "    return H\n",
    "\n",
    "    \n",
    "    #sp.Eq(sp.exp(-z**2+2*z*xi), sp.summation(z**n/sp.factorial(n)*Hsum, (n, 0, sp.oo)))\n",
    "    "
   ]
  },
  {
   "cell_type": "code",
   "execution_count": 15,
   "metadata": {
    "collapsed": false
   },
   "outputs": [
    {
     "data": {
      "image/png": "[encoded data removed]",
      "text/latex": [
       "$$2 \\xi$$"
      ],
      "text/plain": [
       "2⋅ξ"
      ]
     },
     "execution_count": 15,
     "metadata": {},
     "output_type": "execute_result"
    }
   ],
   "source": [
    "Hsum(1)"
   ]
  },
  {
   "cell_type": "code",
   "execution_count": 16,
   "metadata": {
    "collapsed": false
   },
   "outputs": [
    {
     "data": {
      "image/png": "[encoded data removed]",
      "text/latex": [
       "$$4 \\xi^{2} - 2$$"
      ],
      "text/plain": [
       "   2    \n",
       "4⋅ξ  - 2"
      ]
     },
     "execution_count": 16,
     "metadata": {},
     "output_type": "execute_result"
    }
   ],
   "source": [
    "Hsum(2)"
   ]
  },
  {
   "cell_type": "code",
   "execution_count": 17,
   "metadata": {
    "collapsed": false
   },
   "outputs": [
    {
     "data": {
      "image/png": "[encoded data removed]",
      "text/latex": [
       "$$8 \\xi^{3} - 12 \\xi$$"
      ],
      "text/plain": [
       "   3       \n",
       "8⋅ξ  - 12⋅ξ"
      ]
     },
     "execution_count": 17,
     "metadata": {},
     "output_type": "execute_result"
    }
   ],
   "source": [
    "sp.simplify(Hsum(3))"
   ]
  },
  {
   "cell_type": "markdown",
   "metadata": {},
   "source": [
    "And there we have it: we have found 4 different ways to find the Hermite polynomial. They all seem rather simple using computational methods, since I press a few keys and get an answer."
   ]
  }
 ],
 "metadata": {
  "anaconda-cloud": {},
  "kernelspec": {
   "display_name": "Python [physics362]",
   "language": "python",
   "name": "Python [physics362]"
  }
 },
 "nbformat": 4,
 "nbformat_minor": 0
}
