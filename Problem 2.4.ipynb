{
 "cells": [
  {
   "cell_type": "markdown",
   "metadata": {},
   "source": [
    "## Problem 2 .4\n",
    "Calculate $\\langle x \\rangle$, $\\langle x^2 \\rangle$, $\\langle p \\rangle$, $\\langle p^2 \\rangle$, $\\sigma x$, and $\\sigma p$ for the $n$th stationary state of the infinite square well. Check that the uncertainty principle is satisfied. Which state comes closest to the uncertainty limit?"
   ]
  },
  {
   "cell_type": "code",
   "execution_count": 1,
   "metadata": {
    "collapsed": false
   },
   "outputs": [
    {
     "data": {
      "image/png": "[encoded data removed]",
      "text/latex": [
       "$$\\frac{\\sqrt{2}}{\\sqrt{a}} \\sin{\\left (\\frac{\\pi x}{a} n \\right )}$$"
      ],
      "text/plain": [
       "      ⎛π⋅n⋅x⎞\n",
       "√2⋅sin⎜─────⎟\n",
       "      ⎝  a  ⎠\n",
       "─────────────\n",
       "      √a     "
      ]
     },
     "execution_count": 1,
     "metadata": {},
     "output_type": "execute_result"
    }
   ],
   "source": [
    "import sympy as sp\n",
    "sp.init_printing()\n",
    "\n",
    "a, x = sp.symbols('a, x', real=True, positive=True)\n",
    "n = sp.symbols('n', positive=True, integer=True)\n",
    "#x = sp.symbols('x')\n",
    "psi = sp.sqrt(2/a)*sp.sin(n*sp.pi*x/a)\n",
    "psi\n",
    "\n",
    "##since its the stationary state, t=0, and we dont need to worry about the time dependent peice of psi."
   ]
  },
  {
   "cell_type": "code",
   "execution_count": 2,
   "metadata": {
    "collapsed": false,
    "scrolled": true
   },
   "outputs": [
    {
     "data": {
      "image/png": "[encoded data removed]",
      "text/latex": [
       "$$\\frac{a}{2 \\pi^{2} n^{2}} + \\frac{1}{a} \\left(\\frac{a^{2}}{2} - \\frac{a^{2}}{2 \\pi^{2} n^{2}}\\right)$$"
      ],
      "text/plain": [
       "            ⎛ 2       2  ⎞\n",
       "            ⎜a       a   ⎟\n",
       "          2⋅⎜── - ───────⎟\n",
       "            ⎜4       2  2⎟\n",
       "   a        ⎝     4⋅π ⋅n ⎠\n",
       "─────── + ────────────────\n",
       "   2  2          a        \n",
       "2⋅π ⋅n                    "
      ]
     },
     "execution_count": 2,
     "metadata": {},
     "output_type": "execute_result"
    }
   ],
   "source": [
    "expx = sp.integrate((sp.conjugate(psi)*x*psi), (x, 0, a))\n",
    "sp.simplify(expx)\n",
    "expx\n",
    "\n",
    "##with out the time dependence, psi* = psi"
   ]
  },
  {
   "cell_type": "code",
   "execution_count": 4,
   "metadata": {
    "collapsed": false
   },
   "outputs": [
    {
     "data": {
      "image/png": "[encoded data removed]",
      "text/latex": [
       "$$\\frac{1}{a} \\left(\\frac{a^{3}}{3} - \\frac{a^{3}}{2 \\pi^{2} n^{2}}\\right)$$"
      ],
      "text/plain": [
       "  ⎛ 3       3  ⎞\n",
       "  ⎜a       a   ⎟\n",
       "2⋅⎜── - ───────⎟\n",
       "  ⎜6       2  2⎟\n",
       "  ⎝     4⋅π ⋅n ⎠\n",
       "────────────────\n",
       "       a        "
      ]
     },
     "execution_count": 4,
     "metadata": {},
     "output_type": "execute_result"
    }
   ],
   "source": [
    "expxsq = sp.integrate((x**2*psi*psi), (x, 0, a))\n",
    "expxsq\n"
   ]
  },
  {
   "cell_type": "code",
   "execution_count": 5,
   "metadata": {
    "collapsed": false
   },
   "outputs": [
    {
     "data": {
      "image/png": "[encoded data removed]",
      "text/latex": [
       "$$0$$"
      ],
      "text/plain": [
       "0"
      ]
     },
     "execution_count": 5,
     "metadata": {},
     "output_type": "execute_result"
    }
   ],
   "source": [
    "from sympy.physics.quantum.constants import hbar\n",
    "expp = sp.integrate((-sp.I*hbar*psi*sp.diff(psi, x)), (x, 0, a))\n",
    "expp\n",
    "\n",
    "##i used the integral equation for expected p so I can copy and paste the equation when I calculate expected psi squared."
   ]
  },
  {
   "cell_type": "code",
   "execution_count": 6,
   "metadata": {
    "collapsed": false
   },
   "outputs": [
    {
     "data": {
      "image/png": "[encoded data removed]",
      "text/latex": [
       "$$\\frac{\\pi^{2} n^{2}}{a^{2}} \\hbar^{2}$$"
      ],
      "text/plain": [
       " 2  2  2\n",
       "ℏ ⋅π ⋅n \n",
       "────────\n",
       "    2   \n",
       "   a    "
      ]
     },
     "execution_count": 6,
     "metadata": {},
     "output_type": "execute_result"
    }
   ],
   "source": [
    "exppsq = sp.integrate((-hbar**2*psi*sp.diff(psi, x, 2)), (x, 0, a))\n",
    "exppsq\n"
   ]
  },
  {
   "cell_type": "code",
   "execution_count": 7,
   "metadata": {
    "collapsed": false
   },
   "outputs": [
    {
     "data": {
      "image/png": "[encoded data removed]",
      "text/latex": [
       "$$\\sqrt{\\left(\\frac{a}{2 \\pi^{2} n^{2}} + \\frac{1}{a} \\left(\\frac{a^{2}}{2} - \\frac{a^{2}}{2 \\pi^{2} n^{2}}\\right)\\right)^{2} - \\frac{1}{a} \\left(\\frac{a^{3}}{3} - \\frac{a^{3}}{2 \\pi^{2} n^{2}}\\right)}$$"
      ],
      "text/plain": [
       "          __________________________________________________\n",
       "         ╱                             2                    \n",
       "        ╱  ⎛            ⎛ 2       2  ⎞⎞      ⎛ 3       3  ⎞ \n",
       "       ╱   ⎜            ⎜a       a   ⎟⎟      ⎜a       a   ⎟ \n",
       "      ╱    ⎜          2⋅⎜── - ───────⎟⎟    2⋅⎜── - ───────⎟ \n",
       "     ╱     ⎜            ⎜4       2  2⎟⎟      ⎜6       2  2⎟ \n",
       "    ╱      ⎜   a        ⎝     4⋅π ⋅n ⎠⎟      ⎝     4⋅π ⋅n ⎠ \n",
       "   ╱       ⎜─────── + ────────────────⎟  - ──────────────── \n",
       "  ╱        ⎜   2  2          a        ⎟           a         \n",
       "╲╱         ⎝2⋅π ⋅n                    ⎠                     "
      ]
     },
     "execution_count": 7,
     "metadata": {},
     "output_type": "execute_result"
    }
   ],
   "source": [
    "sigmax = sp.sqrt(expx**2 - expxsq)\n",
    "sigmax"
   ]
  },
  {
   "cell_type": "code",
   "execution_count": 8,
   "metadata": {
    "collapsed": false
   },
   "outputs": [
    {
     "data": {
      "image/png": "[encoded data removed]",
      "text/latex": [
       "$$\\frac{a}{6 \\pi n} \\sqrt{- 3 \\pi^{2} n^{2} + 18}$$"
      ],
      "text/plain": [
       "     ________________\n",
       "    ╱      2  2      \n",
       "a⋅╲╱  - 3⋅π ⋅n  + 18 \n",
       "─────────────────────\n",
       "        6⋅π⋅n        "
      ]
     },
     "execution_count": 8,
     "metadata": {},
     "output_type": "execute_result"
    }
   ],
   "source": [
    "sp.simplify(sigmax)"
   ]
  },
  {
   "cell_type": "code",
   "execution_count": 10,
   "metadata": {
    "collapsed": false
   },
   "outputs": [
    {
     "data": {
      "image/png": "[encoded data removed]",
      "text/latex": [
       "$$\\frac{i \\pi}{a} \\hbar n$$"
      ],
      "text/plain": [
       "ℏ⋅ⅈ⋅π⋅n\n",
       "───────\n",
       "   a   "
      ]
     },
     "execution_count": 10,
     "metadata": {},
     "output_type": "execute_result"
    }
   ],
   "source": [
    "sigmap = sp.sqrt(expp**2-exppsq)\n",
    "sp.simplify(sigmap)\n",
    "sigmap"
   ]
  },
  {
   "cell_type": "markdown",
   "metadata": {
    "collapsed": true
   },
   "source": [
    "The uncertainty principle states that $\\sigma x * \\sigma p > \\hbar/2$"
   ]
  },
  {
   "cell_type": "code",
   "execution_count": 18,
   "metadata": {
    "collapsed": false
   },
   "outputs": [
    {
     "data": {
      "image/png": "[encoded data removed]",
      "text/latex": [
       "$$- \\frac{\\hbar}{6} \\sqrt{3 \\pi^{2} n^{2} - 18}$$"
      ],
      "text/plain": [
       "      ______________ \n",
       "     ╱    2  2       \n",
       "-ℏ⋅╲╱  3⋅π ⋅n  - 18  \n",
       "─────────────────────\n",
       "          6          "
      ]
     },
     "execution_count": 18,
     "metadata": {},
     "output_type": "execute_result"
    }
   ],
   "source": [
    "unc = sp.simplify(sigmax*sigmap)\n",
    "unc"
   ]
  },
  {
   "cell_type": "code",
   "execution_count": 20,
   "metadata": {
    "collapsed": false
   },
   "outputs": [
    {
     "data": {
      "image/png": "[encoded data removed]",
      "text/latex": [
       "$$- \\frac{\\sqrt{2} i}{2} \\hbar$$"
      ],
      "text/plain": [
       "-√2⋅ℏ⋅ⅈ \n",
       "────────\n",
       "   2    "
      ]
     },
     "execution_count": 20,
     "metadata": {},
     "output_type": "execute_result"
    }
   ],
   "source": [
    "unc.subs(n,0)"
   ]
  },
  {
   "cell_type": "code",
   "execution_count": 22,
   "metadata": {
    "collapsed": false
   },
   "outputs": [
    {
     "data": {
      "image/png": "[encoded data removed]",
      "text/latex": [
       "$$- \\frac{\\hbar}{6} \\sqrt{-18 + 3 \\pi^{2}}$$"
      ],
      "text/plain": [
       "      ____________ \n",
       "     ╱          2  \n",
       "-ℏ⋅╲╱  -18 + 3⋅π   \n",
       "───────────────────\n",
       "         6         "
      ]
     },
     "execution_count": 22,
     "metadata": {},
     "output_type": "execute_result"
    }
   ],
   "source": [
    "sp.simplify(unc.subs(n,1))"
   ]
  },
  {
   "cell_type": "code",
   "execution_count": 23,
   "metadata": {
    "collapsed": false
   },
   "outputs": [
    {
     "data": {
      "image/png": "[encoded data removed]",
      "text/latex": [
       "$$- \\frac{\\hbar}{6} \\sqrt{-18 + 12 \\pi^{2}}$$"
      ],
      "text/plain": [
       "      _____________ \n",
       "     ╱           2  \n",
       "-ℏ⋅╲╱  -18 + 12⋅π   \n",
       "────────────────────\n",
       "         6          "
      ]
     },
     "execution_count": 23,
     "metadata": {},
     "output_type": "execute_result"
    }
   ],
   "source": [
    "unc.subs(n,2)"
   ]
  },
  {
   "cell_type": "code",
   "execution_count": 24,
   "metadata": {
    "collapsed": false
   },
   "outputs": [
    {
     "data": {
      "image/png": "[encoded data removed]",
      "text/latex": [
       "$$- \\frac{\\hbar}{6} \\sqrt{-18 + 27 \\pi^{2}}$$"
      ],
      "text/plain": [
       "      _____________ \n",
       "     ╱           2  \n",
       "-ℏ⋅╲╱  -18 + 27⋅π   \n",
       "────────────────────\n",
       "         6          "
      ]
     },
     "execution_count": 24,
     "metadata": {},
     "output_type": "execute_result"
    }
   ],
   "source": [
    "unc.subs(n,3)"
   ]
  },
  {
   "cell_type": "code",
   "execution_count": null,
   "metadata": {
    "collapsed": true
   },
   "outputs": [],
   "source": []
  }
 ],
 "metadata": {
  "anaconda-cloud": {},
  "kernelspec": {
   "display_name": "Python [physics362]",
   "language": "python",
   "name": "Python [physics362]"
  },
  "language_info": {
   "codemirror_mode": {
    "name": "ipython",
    "version": 3
   },
   "file_extension": ".py",
   "mimetype": "text/x-python",
   "name": "python",
   "nbconvert_exporter": "python",
   "pygments_lexer": "ipython3",
   "version": "3.5.2"
  }
 },
 "nbformat": 4,
 "nbformat_minor": 0
}
