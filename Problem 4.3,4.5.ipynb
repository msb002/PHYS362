{
 "cells": [
  {
   "cell_type": "markdown",
   "metadata": {},
   "source": [
    "# Problem 4.3\n",
    "\n",
    "Use equations 4.27, 4.28, and 4.32 to construct $Y_0^0$ and $Y_2^1$. Check that they are normalized and orthogonal."
   ]
  },
  {
   "cell_type": "code",
   "execution_count": 2,
   "metadata": {
    "collapsed": false
   },
   "outputs": [],
   "source": [
    "import sympy as sp\n",
    "from sympy.physics.quantum.constants import hbar\n",
    "from scipy.misc import factorial\n",
    "sp.init_printing()\n",
    "\n",
    "#equation 4.27\n",
    "def legendre(l, x):\n",
    "    coef = 1 / (factorial(l)*2**l)\n",
    "    return coef * sp.diff((x**2 - 1)**l, x, l)\n",
    "\n",
    "#equation 4.28\n",
    "def asslegendre(l, m, x):\n",
    "    return (1-x**2)**(sp.Abs(m)/2)*sp.diff(legendre(l, x), x, (sp.Abs(m)))\n",
    "    \n",
    "    \n",
    "    "
   ]
  },
  {
   "cell_type": "code",
   "execution_count": 3,
   "metadata": {
    "collapsed": false
   },
   "outputs": [
    {
     "data": {
      "image/png": "[encoded data removed]",
      "text/latex": [
       "$$15.0 \\sin^{2}{\\left (x \\right )} \\cos{\\left (x \\right )}$$"
      ],
      "text/plain": [
       "        2          \n",
       "15.0⋅sin (x)⋅cos(x)"
      ]
     },
     "execution_count": 3,
     "metadata": {},
     "output_type": "execute_result"
    }
   ],
   "source": [
    "x = sp.symbols('x', real=True, positive = True)\n",
    "sp.simplify(asslegendre(3,2,sp.cos(x)))"
   ]
  },
  {
   "cell_type": "markdown",
   "metadata": {},
   "source": [
    "This is exactly what we expect for our solutions, testing the first few combinations of $l$ and $m$ listed in the text. Now that we have our legendre polynomials and associated legendre polynomials, we need to apply this to the $\\theta$ and $\\phi$ dependent Schrodinger solutions."
   ]
  },
  {
   "cell_type": "code",
   "execution_count": 4,
   "metadata": {
    "collapsed": true
   },
   "outputs": [],
   "source": [
    "def Y(l, m, theta, phi):\n",
    "    mabs = sp.Abs(m)\n",
    "    coef = sp.sqrt((2*l+1)*factorial(l-m)/(4*sp.pi*factorial(l+m)))\n",
    "    if m > 0:\n",
    "        return (-1)**m*coef*asslegendre(l,m,sp.cos(theta)) * sp.exp((0.0+1.0j)*m*phi)\n",
    "    else:\n",
    "        return sp.simplify(coef*asslegendre(l,m,sp.cos(theta)) * sp.exp((0.0+1.0j)*m*phi))"
   ]
  },
  {
   "cell_type": "code",
   "execution_count": 5,
   "metadata": {
    "collapsed": false
   },
   "outputs": [
    {
     "data": {
      "image/png": "[encoded data removed]",
      "text/latex": [
       "$$\\frac{0.5}{\\sqrt{\\pi}}$$"
      ],
      "text/plain": [
       "0.5\n",
       "───\n",
       " √π"
      ]
     },
     "execution_count": 5,
     "metadata": {},
     "output_type": "execute_result"
    }
   ],
   "source": [
    "theta, phi = sp.symbols('theta phi', real = True, positive = True)\n",
    "Y00 = Y(0, 0, theta, phi)\n",
    "Y00"
   ]
  },
  {
   "cell_type": "markdown",
   "metadata": {},
   "source": [
    "This is mathematically equivalent to $\\frac{1}{\\sqrt{pi}}$. I'm gonna store this so I don't have to calculat it twice when I integrate."
   ]
  },
  {
   "cell_type": "code",
   "execution_count": 6,
   "metadata": {
    "collapsed": false
   },
   "outputs": [
    {
     "data": {
      "image/png": "[encoded data removed]",
      "text/latex": [
       "$$\\frac{1.81142209327368}{\\sqrt{\\pi}} \\left(- \\cos^{2}{\\left (\\theta \\right )} + 1\\right) e^{2.0 i \\phi} \\cos{\\left (\\theta \\right )}$$"
      ],
      "text/plain": [
       "                 ⎛     2       ⎞  2.0⋅ⅈ⋅φ       \n",
       "1.81142209327368⋅⎝- cos (θ) + 1⎠⋅ℯ       ⋅cos(θ)\n",
       "────────────────────────────────────────────────\n",
       "                       √π                       "
      ]
     },
     "execution_count": 6,
     "metadata": {},
     "output_type": "execute_result"
    }
   ],
   "source": [
    "Y32 = Y(3,2, theta, phi)\n",
    "Y32"
   ]
  },
  {
   "cell_type": "markdown",
   "metadata": {},
   "source": [
    "Again, the simplification changes the answer slightly, but the long decimal is equivalent to the one in the table in the book."
   ]
  },
  {
   "cell_type": "code",
   "execution_count": 7,
   "metadata": {
    "collapsed": false
   },
   "outputs": [
    {
     "data": {
      "image/png": "[encoded data removed]",
      "text/latex": [
       "$$1.0$$"
      ],
      "text/plain": [
       "1.00000000000000"
      ]
     },
     "execution_count": 7,
     "metadata": {},
     "output_type": "execute_result"
    }
   ],
   "source": [
    "sp.integrate(sp.integrate(sp.conjugate(Y32)*Y32*sp.sin(theta), (theta, 0, sp.pi)), (phi, 0, 2*sp.pi))"
   ]
  },
  {
   "cell_type": "code",
   "execution_count": 8,
   "metadata": {
    "collapsed": false
   },
   "outputs": [
    {
     "data": {
      "image/png": "[encoded data removed]",
      "text/latex": [
       "$$1.0$$"
      ],
      "text/plain": [
       "1.00000000000000"
      ]
     },
     "execution_count": 8,
     "metadata": {},
     "output_type": "execute_result"
    }
   ],
   "source": [
    "sp.integrate(sp.integrate(sp.conjugate(Y00)*Y00*sp.sin(theta), (theta, 0, sp.pi)), (phi, 0, 2*sp.pi))"
   ]
  },
  {
   "cell_type": "markdown",
   "metadata": {},
   "source": [
    "Equals 1. Done. Normalized~"
   ]
  },
  {
   "cell_type": "markdown",
   "metadata": {},
   "source": [
    "# Problem 4.5\n",
    "\n",
    "Use equation 4.32 to construct $Y_1^1 (\\theta,\\phi)$ and $Y_3^2 (\\theta, \\phi)$. Check that they satisfy the angular equation for the appropriate $l$ and $m$.\n",
    "\n",
    "Equation 4.18: $$ \\frac{\\partial}{\\partial\\theta}sin\\theta\\frac{\\partial Y}{\\partial \\theta}+\\frac{1}{sin\\theta}\\frac{\\partial^2 Y}{\\partial\\phi^2} = -l(l+1)sin(\\theta)Y$$"
   ]
  },
  {
   "cell_type": "code",
   "execution_count": 9,
   "metadata": {
    "collapsed": false
   },
   "outputs": [
    {
     "data": {
      "image/png": "[encoded data removed]",
      "text/latex": [
       "$$- \\frac{0.612372435695794}{\\sqrt{\\pi}} \\sqrt{- \\cos^{2}{\\left (\\theta \\right )} + 1} e^{1.0 i \\phi}$$"
      ],
      "text/plain": [
       "                      _______________          \n",
       "                     ╱      2          1.0⋅ⅈ⋅φ \n",
       "-0.612372435695794⋅╲╱  - cos (θ) + 1 ⋅ℯ        \n",
       "───────────────────────────────────────────────\n",
       "                       √π                      "
      ]
     },
     "execution_count": 9,
     "metadata": {},
     "output_type": "execute_result"
    }
   ],
   "source": [
    "Y11 = Y(1, 1, theta, phi)\n",
    "Y11"
   ]
  },
  {
   "cell_type": "code",
   "execution_count": 10,
   "metadata": {
    "collapsed": false
   },
   "outputs": [
    {
     "data": {
      "image/png": "[encoded data removed]",
      "text/latex": [
       "$$\\left|{\\sin{\\left (\\theta \\right )}}\\right|$$"
      ],
      "text/plain": [
       "│sin(θ)│"
      ]
     },
     "execution_count": 10,
     "metadata": {},
     "output_type": "execute_result"
    }
   ],
   "source": [
    "sp.sqrt(sp.sin(theta)**2)"
   ]
  },
  {
   "cell_type": "code",
   "execution_count": 21,
   "metadata": {
    "collapsed": false
   },
   "outputs": [
    {
     "data": {
      "image/png": "[encoded data removed]",
      "text/latex": [
       "$$\\frac{1.22474487139159}{\\sqrt{\\pi}} e^{1.0 i \\phi} \\sin{\\left (\\theta \\right )} \\left|{\\sin{\\left (\\theta \\right )}}\\right|$$"
      ],
      "text/plain": [
       "                  1.0⋅ⅈ⋅φ                \n",
       "1.22474487139159⋅ℯ       ⋅sin(θ)⋅│sin(θ)│\n",
       "─────────────────────────────────────────\n",
       "                    √π                   "
      ]
     },
     "execution_count": 21,
     "metadata": {},
     "output_type": "execute_result"
    }
   ],
   "source": [
    "lhs = sp.simplify(sp.diff(sp.sin(theta)*sp.diff(Y11, theta), theta) + 1/sp.sin(theta)*sp.diff(Y11, phi, 2))\n",
    "lhs"
   ]
  },
  {
   "cell_type": "code",
   "execution_count": 22,
   "metadata": {
    "collapsed": false
   },
   "outputs": [
    {
     "data": {
      "image/png": "[encoded data removed]",
      "text/latex": [
       "$$\\frac{1.22474487139159}{\\sqrt{\\pi}} e^{1.0 i \\phi} \\sin{\\left (\\theta \\right )} \\left|{\\sin{\\left (\\theta \\right )}}\\right|$$"
      ],
      "text/plain": [
       "                  1.0⋅ⅈ⋅φ                \n",
       "1.22474487139159⋅ℯ       ⋅sin(θ)⋅│sin(θ)│\n",
       "─────────────────────────────────────────\n",
       "                    √π                   "
      ]
     },
     "execution_count": 22,
     "metadata": {},
     "output_type": "execute_result"
    }
   ],
   "source": [
    "rhs = sp.simplify(-2*Y11*sp.sin(theta))\n",
    "rhs"
   ]
  },
  {
   "cell_type": "code",
   "execution_count": 23,
   "metadata": {
    "collapsed": false
   },
   "outputs": [
    {
     "data": {
      "image/png": "[encoded data removed]",
      "text/latex": [
       "$$0$$"
      ],
      "text/plain": [
       "0"
      ]
     },
     "execution_count": 23,
     "metadata": {},
     "output_type": "execute_result"
    }
   ],
   "source": [
    "rhs - lhs"
   ]
  },
  {
   "cell_type": "code",
   "execution_count": 26,
   "metadata": {
    "collapsed": false
   },
   "outputs": [
    {
     "data": {
      "image/png": "[encoded data removed]",
      "text/latex": [
       "$$\\frac{1.81142209327368}{\\sqrt{\\pi}} \\left(- \\cos^{2}{\\left (\\theta \\right )} + 1\\right) e^{2.0 i \\phi} \\cos{\\left (\\theta \\right )}$$"
      ],
      "text/plain": [
       "                 ⎛     2       ⎞  2.0⋅ⅈ⋅φ       \n",
       "1.81142209327368⋅⎝- cos (θ) + 1⎠⋅ℯ       ⋅cos(θ)\n",
       "────────────────────────────────────────────────\n",
       "                       √π                       "
      ]
     },
     "execution_count": 26,
     "metadata": {},
     "output_type": "execute_result"
    }
   ],
   "source": [
    "Y32 = Y(3, 2, theta, phi)\n",
    "Y32"
   ]
  },
  {
   "cell_type": "code",
   "execution_count": 27,
   "metadata": {
    "collapsed": false
   },
   "outputs": [
    {
     "data": {
      "image/png": "[encoded data removed]",
      "text/latex": [
       "$$- \\frac{21.7370651192842}{\\sqrt{\\pi}} e^{2.0 i \\phi} \\sin^{3}{\\left (\\theta \\right )} \\cos{\\left (\\theta \\right )}$$"
      ],
      "text/plain": [
       "                   2.0⋅ⅈ⋅φ    3           \n",
       "-21.7370651192842⋅ℯ       ⋅sin (θ)⋅cos(θ) \n",
       "──────────────────────────────────────────\n",
       "                    √π                    "
      ]
     },
     "execution_count": 27,
     "metadata": {},
     "output_type": "execute_result"
    }
   ],
   "source": [
    "lhs = sp.simplify(sp.diff(sp.sin(theta)*sp.diff(Y32, theta), theta) + 1/sp.sin(theta)*sp.diff(Y32, phi, 2))\n",
    "lhs"
   ]
  },
  {
   "cell_type": "code",
   "execution_count": 30,
   "metadata": {
    "collapsed": false
   },
   "outputs": [
    {
     "data": {
      "image/png": "[encoded data removed]",
      "text/latex": [
       "$$- \\frac{21.7370651192842}{\\sqrt{\\pi}} e^{2.0 i \\phi} \\sin^{3}{\\left (\\theta \\right )} \\cos{\\left (\\theta \\right )}$$"
      ],
      "text/plain": [
       "                   2.0⋅ⅈ⋅φ    3           \n",
       "-21.7370651192842⋅ℯ       ⋅sin (θ)⋅cos(θ) \n",
       "──────────────────────────────────────────\n",
       "                    √π                    "
      ]
     },
     "execution_count": 30,
     "metadata": {},
     "output_type": "execute_result"
    }
   ],
   "source": [
    "rhs = sp.simplify(-12*Y32*sp.sin(theta))\n",
    "rhs"
   ]
  },
  {
   "cell_type": "code",
   "execution_count": 31,
   "metadata": {
    "collapsed": false
   },
   "outputs": [
    {
     "data": {
      "image/png": "[encoded data removed]",
      "text/latex": [
       "$$0$$"
      ],
      "text/plain": [
       "0"
      ]
     },
     "execution_count": 31,
     "metadata": {},
     "output_type": "execute_result"
    }
   ],
   "source": [
    "rhs - lhs"
   ]
  },
  {
   "cell_type": "markdown",
   "metadata": {},
   "source": [
    "$Y_1^1$ and $Y_3^2$ satisfy the angular Schrodinger equation. Cool."
   ]
  },
  {
   "cell_type": "code",
   "execution_count": null,
   "metadata": {
    "collapsed": true
   },
   "outputs": [],
   "source": []
  }
 ],
 "metadata": {
  "anaconda-cloud": {},
  "kernelspec": {
   "display_name": "Python [physics362]",
   "language": "python",
   "name": "Python [physics362]"
  },
  "language_info": {
   "codemirror_mode": {
    "name": "ipython",
    "version": 3
   },
   "file_extension": ".py",
   "mimetype": "text/x-python",
   "name": "python",
   "nbconvert_exporter": "python",
   "pygments_lexer": "ipython3",
   "version": "3.5.2"
  }
 },
 "nbformat": 4,
 "nbformat_minor": 0
}
