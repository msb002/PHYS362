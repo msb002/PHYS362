{
 "cells": [
  {
   "cell_type": "markdown",
   "metadata": {},
   "source": [
    "# Problem 2.11\n",
    "1. compute $\\langle x \\rangle$, $\\langle p\\rangle$, $\\langle x^2\\rangle$, $\\langle p^2\\rangle$, for the states $\\psi0$ and $\\psi1$ by explicit integration. \n",
    "2. check the uncertainty principle\n",
    "3. Compute $\\langle T\\rangle$, and $\\langle V\\rangle$. Is their sum what you would expect?"
   ]
  },
  {
   "cell_type": "code",
   "execution_count": 11,
   "metadata": {
    "collapsed": false
   },
   "outputs": [
    {
     "data": {
      "image/png": "[encoded data removed]",
      "text/latex": [
       "$$\\frac{\\sqrt[4]{m} \\sqrt[4]{\\omega}}{\\sqrt[4]{\\hbar} \\sqrt[4]{\\pi}} e^{- \\frac{m \\omega x^{2}}{2 \\hbar}}$$"
      ],
      "text/plain": [
       "                   2 \n",
       "             -m⋅ω⋅x  \n",
       "             ────────\n",
       "4 ___ 4 ___    2⋅ℏ   \n",
       "╲╱ m ⋅╲╱ ω ⋅ℯ        \n",
       "─────────────────────\n",
       "     4 ___ 4 ___     \n",
       "     ╲╱ ℏ ⋅╲╱ π      "
      ]
     },
     "execution_count": 11,
     "metadata": {},
     "output_type": "execute_result"
    }
   ],
   "source": [
    "import sympy as sp\n",
    "from sympy.physics.quantum.constants import hbar\n",
    "sp.init_printing()\n",
    "\n",
    "m, omega = sp.symbols('m omega', real=True, positive=True)\n",
    "x = sp.symbols('x')\n",
    "xi = sp.sqrt(m*omega/(hbar))*x\n",
    "alpha = sp.sqrt(sp.sqrt(m*omega/(sp.pi*hbar)))\n",
    "\n",
    "psi0 = alpha*sp.exp(-xi**2/2)\n",
    "psi0"
   ]
  },
  {
   "cell_type": "markdown",
   "metadata": {
    "collapsed": true
   },
   "source": [
    "Here, we have the $0$th stationary state of $\\psi$, which we can apply $a+$ or $a-$ to in order to find the $n$th stationary state."
   ]
  },
  {
   "cell_type": "code",
   "execution_count": 12,
   "metadata": {
    "collapsed": false
   },
   "outputs": [
    {
     "data": {
      "image/png": "[encoded data removed]",
      "text/latex": [
       "$$0$$"
      ],
      "text/plain": [
       "0"
      ]
     },
     "execution_count": 12,
     "metadata": {},
     "output_type": "execute_result"
    }
   ],
   "source": [
    "expx0 = sp.integrate(psi0*x*psi0, (x, -sp.oo, sp.oo))\n",
    "expx0"
   ]
  },
  {
   "cell_type": "code",
   "execution_count": 13,
   "metadata": {
    "collapsed": false
   },
   "outputs": [
    {
     "data": {
      "image/png": "[encoded data removed]",
      "text/latex": [
       "$$0$$"
      ],
      "text/plain": [
       "0"
      ]
     },
     "execution_count": 13,
     "metadata": {},
     "output_type": "execute_result"
    }
   ],
   "source": [
    "expp0 = m*sp.diff(expx0)\n",
    "expp0"
   ]
  },
  {
   "cell_type": "markdown",
   "metadata": {},
   "source": [
    "These resuts make sense, so long as $x^2$ and $p^2$ are not $0$. as that would violate the uncertainty principle which I will calculate in part b."
   ]
  },
  {
   "cell_type": "code",
   "execution_count": 14,
   "metadata": {
    "collapsed": false
   },
   "outputs": [
    {
     "data": {
      "image/png": "[encoded data removed]",
      "text/latex": [
       "$$\\frac{\\hbar}{2 m \\omega}$$"
      ],
      "text/plain": [
       "  ℏ  \n",
       "─────\n",
       "2⋅m⋅ω"
      ]
     },
     "execution_count": 14,
     "metadata": {},
     "output_type": "execute_result"
    }
   ],
   "source": [
    "expxsq0 = sp.integrate(psi0*x**2*psi0, (x, -sp.oo, sp.oo))\n",
    "expxsq0"
   ]
  },
  {
   "cell_type": "code",
   "execution_count": 15,
   "metadata": {
    "collapsed": false
   },
   "outputs": [
    {
     "data": {
      "image/png": "[encoded data removed]",
      "text/latex": [
       "$$\\frac{m \\omega}{2} \\hbar$$"
      ],
      "text/plain": [
       "ℏ⋅m⋅ω\n",
       "─────\n",
       "  2  "
      ]
     },
     "execution_count": 15,
     "metadata": {},
     "output_type": "execute_result"
    }
   ],
   "source": [
    "exppsq0 = sp.integrate(psi0*(-hbar**2)*sp.diff(psi0, x, 2), (x, -sp.oo, sp.oo))\n",
    "exppsq0"
   ]
  },
  {
   "cell_type": "markdown",
   "metadata": {},
   "source": [
    "Here I have calculated everything for $\\psi 0$. Now I'll take a step up the ladder and just copy and paste everything, but replace $0$ with $1$."
   ]
  },
  {
   "cell_type": "code",
   "execution_count": 56,
   "metadata": {
    "collapsed": false,
    "scrolled": true
   },
   "outputs": [
    {
     "data": {
      "image/png": "[encoded data removed]",
      "text/latex": [
       "$$\\frac{\\sqrt{2} m^{\\frac{3}{4}} \\omega^{\\frac{3}{4}} x}{\\hbar^{\\frac{3}{4}} \\sqrt[4]{\\pi}} e^{- \\frac{m \\omega x^{2}}{2 \\hbar}}$$"
      ],
      "text/plain": [
       "                      2 \n",
       "                -m⋅ω⋅x  \n",
       "                ────────\n",
       "    3/4  3/4      2⋅ℏ   \n",
       "√2⋅m   ⋅ω   ⋅x⋅ℯ        \n",
       "────────────────────────\n",
       "        3/4 4 ___       \n",
       "       ℏ   ⋅╲╱ π        "
      ]
     },
     "execution_count": 56,
     "metadata": {},
     "output_type": "execute_result"
    }
   ],
   "source": [
    "psi1 = sp.sqrt(1/(2*hbar*m*omega))*(-hbar*sp.diff(psi0, x)+m*omega*x*psi0)\n",
    "psi1"
   ]
  },
  {
   "cell_type": "code",
   "execution_count": 57,
   "metadata": {
    "collapsed": false
   },
   "outputs": [
    {
     "data": {
      "image/png": "[encoded data removed]",
      "text/latex": [
       "$$0$$"
      ],
      "text/plain": [
       "0"
      ]
     },
     "execution_count": 57,
     "metadata": {},
     "output_type": "execute_result"
    }
   ],
   "source": [
    "expx1 = sp.integrate(psi1*x*psi1, (x, -sp.oo, sp.oo))\n",
    "expx1"
   ]
  },
  {
   "cell_type": "code",
   "execution_count": 58,
   "metadata": {
    "collapsed": false
   },
   "outputs": [
    {
     "data": {
      "image/png": "[encoded data removed]",
      "text/latex": [
       "$$0$$"
      ],
      "text/plain": [
       "0"
      ]
     },
     "execution_count": 58,
     "metadata": {},
     "output_type": "execute_result"
    }
   ],
   "source": [
    "expp1 = m*sp.diff(expx1)\n",
    "expp1"
   ]
  },
  {
   "cell_type": "code",
   "execution_count": 59,
   "metadata": {
    "collapsed": false
   },
   "outputs": [
    {
     "data": {
      "image/png": "[encoded data removed]",
      "text/latex": [
       "$$\\frac{3 \\hbar}{2 m \\omega}$$"
      ],
      "text/plain": [
       " 3⋅ℏ \n",
       "─────\n",
       "2⋅m⋅ω"
      ]
     },
     "execution_count": 59,
     "metadata": {},
     "output_type": "execute_result"
    }
   ],
   "source": [
    "expxsq1 = sp.integrate(psi1*x**2*psi1, (x, -sp.oo, sp.oo))\n",
    "expxsq1"
   ]
  },
  {
   "cell_type": "code",
   "execution_count": 60,
   "metadata": {
    "collapsed": false
   },
   "outputs": [
    {
     "data": {
      "image/png": "[encoded data removed]",
      "text/latex": [
       "$$\\frac{3 m}{2} \\hbar \\omega$$"
      ],
      "text/plain": [
       "3⋅ℏ⋅m⋅ω\n",
       "───────\n",
       "   2   "
      ]
     },
     "execution_count": 60,
     "metadata": {},
     "output_type": "execute_result"
    }
   ],
   "source": [
    "exppsq1 = sp.integrate(psi1*(-hbar**2)*sp.diff(psi1, x, 2), (x, -sp.oo, sp.oo))\n",
    "exppsq1"
   ]
  },
  {
   "cell_type": "markdown",
   "metadata": {},
   "source": [
    "Nothing about these numbers seem unreasonable, so I will just proceed and check the uncertainty principle."
   ]
  },
  {
   "cell_type": "code",
   "execution_count": 30,
   "metadata": {
    "collapsed": false
   },
   "outputs": [
    {
     "data": {
      "image/png": "[encoded data removed]",
      "text/latex": [
       "$$\\frac{\\sqrt{2} \\sqrt{\\hbar}}{2 \\sqrt{m} \\sqrt{\\omega}}$$"
      ],
      "text/plain": [
       " √2⋅√ℏ \n",
       "───────\n",
       "2⋅√m⋅√ω"
      ]
     },
     "execution_count": 30,
     "metadata": {},
     "output_type": "execute_result"
    }
   ],
   "source": [
    "#first i need my variance:\n",
    "sigmax0 = sp.sqrt(expxsq0 - expx0**2)\n",
    "sigmax0"
   ]
  },
  {
   "cell_type": "code",
   "execution_count": 32,
   "metadata": {
    "collapsed": false
   },
   "outputs": [
    {
     "data": {
      "image/png": "[encoded data removed]",
      "text/latex": [
       "$$\\frac{\\sqrt{2} \\sqrt{m}}{2} \\sqrt{\\hbar} \\sqrt{\\omega}$$"
      ],
      "text/plain": [
       "√2⋅√ℏ⋅√m⋅√ω\n",
       "───────────\n",
       "     2     "
      ]
     },
     "execution_count": 32,
     "metadata": {},
     "output_type": "execute_result"
    }
   ],
   "source": [
    "sigmap0 = sp.sqrt(exppsq0 - expp0**2)\n",
    "sigmap0"
   ]
  },
  {
   "cell_type": "code",
   "execution_count": 34,
   "metadata": {
    "collapsed": false
   },
   "outputs": [
    {
     "data": {
      "image/png": "[encoded data removed]",
      "text/latex": [
       "$$\\frac{\\hbar}{2}$$"
      ],
      "text/plain": [
       "ℏ\n",
       "─\n",
       "2"
      ]
     },
     "execution_count": 34,
     "metadata": {},
     "output_type": "execute_result"
    }
   ],
   "source": [
    "unc0 = sigmax0*sigmap0\n",
    "unc0"
   ]
  },
  {
   "cell_type": "markdown",
   "metadata": {},
   "source": [
    "The uncertainty principle: $$\\sigma (x) \\sigma (p) ≥ \\hbar/2$$ seems to hold for $\\psi 0$"
   ]
  },
  {
   "cell_type": "code",
   "execution_count": 61,
   "metadata": {
    "collapsed": false
   },
   "outputs": [
    {
     "data": {
      "image/png": "[encoded data removed]",
      "text/latex": [
       "$$\\frac{\\sqrt{6} \\sqrt{\\hbar}}{2 \\sqrt{m} \\sqrt{\\omega}}$$"
      ],
      "text/plain": [
       " √6⋅√ℏ \n",
       "───────\n",
       "2⋅√m⋅√ω"
      ]
     },
     "execution_count": 61,
     "metadata": {},
     "output_type": "execute_result"
    }
   ],
   "source": [
    "sigmax1 = sp.sqrt(expxsq1 - expx1**2)\n",
    "sigmax1"
   ]
  },
  {
   "cell_type": "code",
   "execution_count": 62,
   "metadata": {
    "collapsed": false
   },
   "outputs": [
    {
     "data": {
      "image/png": "[encoded data removed]",
      "text/latex": [
       "$$\\frac{\\sqrt{6} \\sqrt{m}}{2} \\sqrt{\\hbar} \\sqrt{\\omega}$$"
      ],
      "text/plain": [
       "√6⋅√ℏ⋅√m⋅√ω\n",
       "───────────\n",
       "     2     "
      ]
     },
     "execution_count": 62,
     "metadata": {},
     "output_type": "execute_result"
    }
   ],
   "source": [
    "sigmap1 = sp.sqrt(exppsq1 - expp1**2)\n",
    "sigmap1"
   ]
  },
  {
   "cell_type": "code",
   "execution_count": 63,
   "metadata": {
    "collapsed": false
   },
   "outputs": [
    {
     "data": {
      "image/png": "[encoded data removed]",
      "text/latex": [
       "$$\\frac{3 \\hbar}{2}$$"
      ],
      "text/plain": [
       "3⋅ℏ\n",
       "───\n",
       " 2 "
      ]
     },
     "execution_count": 63,
     "metadata": {},
     "output_type": "execute_result"
    }
   ],
   "source": [
    "unc1 = sigmax1*sigmap1\n",
    "unc1"
   ]
  },
  {
   "cell_type": "markdown",
   "metadata": {},
   "source": [
    "\\\\This calculation obviously satisfies the uncertainty principle but seems rather high.\n",
    "This was due to missing parentheses when operating $a+$ on $\\psi 0$\n",
    "This new value is much more reasonable"
   ]
  },
  {
   "cell_type": "markdown",
   "metadata": {},
   "source": [
    "Part c asks us to calcuate $\\langle T \\rangle$ and $\\langle V\\rangle$\n",
    "$$\\langle T\\rangle = \\langle p^2/2m\\rangle = \\langle p^2\\rangle / 2m$$"
   ]
  },
  {
   "cell_type": "code",
   "execution_count": 43,
   "metadata": {
    "collapsed": false
   },
   "outputs": [
    {
     "data": {
      "image/png": "[encoded data removed]",
      "text/latex": [
       "$$\\frac{\\hbar \\omega}{4}$$"
      ],
      "text/plain": [
       "ℏ⋅ω\n",
       "───\n",
       " 4 "
      ]
     },
     "execution_count": 43,
     "metadata": {},
     "output_type": "execute_result"
    }
   ],
   "source": [
    "T0 = exppsq0 / (2*m)\n",
    "T0"
   ]
  },
  {
   "cell_type": "code",
   "execution_count": 64,
   "metadata": {
    "collapsed": false
   },
   "outputs": [
    {
     "data": {
      "image/png": "[encoded data removed]",
      "text/latex": [
       "$$\\frac{3 \\omega}{4} \\hbar$$"
      ],
      "text/plain": [
       "3⋅ℏ⋅ω\n",
       "─────\n",
       "  4  "
      ]
     },
     "execution_count": 64,
     "metadata": {},
     "output_type": "execute_result"
    }
   ],
   "source": [
    "T1 = exppsq1 / (2*m)\n",
    "T1"
   ]
  },
  {
   "cell_type": "markdown",
   "metadata": {},
   "source": [
    "$$\\langle V\\rangle = 1/2\\hbar\\omega (n+1/2)$$"
   ]
  },
  {
   "cell_type": "code",
   "execution_count": 48,
   "metadata": {
    "collapsed": false
   },
   "outputs": [
    {
     "data": {
      "image/png": "[encoded data removed]",
      "text/latex": [
       "$$\\frac{\\hbar \\omega}{4}$$"
      ],
      "text/plain": [
       "ℏ⋅ω\n",
       "───\n",
       " 4 "
      ]
     },
     "execution_count": 48,
     "metadata": {},
     "output_type": "execute_result"
    }
   ],
   "source": [
    "V0 = hbar*omega/4\n",
    "V0"
   ]
  },
  {
   "cell_type": "code",
   "execution_count": 65,
   "metadata": {
    "collapsed": false
   },
   "outputs": [
    {
     "data": {
      "image/png": "[encoded data removed]",
      "text/latex": [
       "$$\\frac{3 \\omega}{4} \\hbar$$"
      ],
      "text/plain": [
       "3⋅ℏ⋅ω\n",
       "─────\n",
       "  4  "
      ]
     },
     "execution_count": 65,
     "metadata": {},
     "output_type": "execute_result"
    }
   ],
   "source": [
    "V1 = hbar*omega*3/4\n",
    "V1"
   ]
  },
  {
   "cell_type": "code",
   "execution_count": 52,
   "metadata": {
    "collapsed": false
   },
   "outputs": [
    {
     "data": {
      "image/png": "[encoded data removed]",
      "text/latex": [
       "$$\\frac{\\hbar \\omega}{2}$$"
      ],
      "text/plain": [
       "ℏ⋅ω\n",
       "───\n",
       " 2 "
      ]
     },
     "execution_count": 52,
     "metadata": {},
     "output_type": "execute_result"
    }
   ],
   "source": [
    "T0+V0"
   ]
  },
  {
   "cell_type": "code",
   "execution_count": 66,
   "metadata": {
    "collapsed": false
   },
   "outputs": [
    {
     "data": {
      "image/png": "[encoded data removed]",
      "text/latex": [
       "$$\\frac{3 \\omega}{2} \\hbar$$"
      ],
      "text/plain": [
       "3⋅ℏ⋅ω\n",
       "─────\n",
       "  2  "
      ]
     },
     "execution_count": 66,
     "metadata": {},
     "output_type": "execute_result"
    }
   ],
   "source": [
    "T1+V1"
   ]
  },
  {
   "cell_type": "markdown",
   "metadata": {},
   "source": [
    "# Index Terms\n",
    "\n",
    "1. $\\langle x\\rangle$ and $\\langle x^2\\rangle$\n",
    "2. $\\langle p\\rangle$ and $\\langle p^2\\rangle$\n",
    "3. Uncertainty Principle\n",
    "4. Harmonic Oscillator\n",
    "5. Ladder of States\n",
    "6. Kinetic Energy (average)\n",
    "7. Potential Energy (average)\n",
    "\n",
    "# Book References\n",
    "\n",
    "1. momentum operator: page 16\n",
    "2. $\\psi n$ ladder steps: page 42\n",
    "3. Average Potential: page 50\n",
    "4. Average Kinetic Energy: page 17\n"
   ]
  },
  {
   "cell_type": "code",
   "execution_count": null,
   "metadata": {
    "collapsed": true
   },
   "outputs": [],
   "source": []
  }
 ],
 "metadata": {
  "anaconda-cloud": {},
  "kernelspec": {
   "display_name": "Python [physics362]",
   "language": "python",
   "name": "Python [physics362]"
  },
  "language_info": {
   "codemirror_mode": {
    "name": "ipython",
    "version": 3
   },
   "file_extension": ".py",
   "mimetype": "text/x-python",
   "name": "python",
   "nbconvert_exporter": "python",
   "pygments_lexer": "ipython3",
   "version": "3.5.2"
  }
 },
 "nbformat": 4,
 "nbformat_minor": 0
}
