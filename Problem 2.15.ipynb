{
 "cells": [
  {
   "cell_type": "markdown",
   "metadata": {},
   "source": [
    "# Problem 2.15\n",
    "\n",
    "In the ground state of the harmonic oscillator, what is the probability of finding the particle outside the classically allowed region?"
   ]
  },
  {
   "cell_type": "code",
   "execution_count": null,
   "metadata": {
    "collapsed": true
   },
   "outputs": [],
   "source": [
    "import sympy as sp\n",
    "from sympy.physics.quantum.constants import hbar\n",
    "sp.init_printing()\n",
    "\n",
    "m, omega, xi, x = sp.symbols('m omega xi x', real = True)\n",
    "psi0 = sp.sqrt(sp.sqrt(m*omega/sp.pi/hbar)/2)*sp.exp(-xi**2/2)\n",
    "psi0"
   ]
  },
  {
   "cell_type": "markdown",
   "metadata": {},
   "source": [
    "The probability is a simple integral of $\\psi ^2$ in the ground state, so we merely need to find our limits of integration. We are given that the limits of $a$ lie at $$a=\\sqrt (2E/m\\omega^2)$$ and because walter has a nose and a hat, in the ground state, $$E=\\hbar\\omega/2$$\n",
    "Therefore $$a=\\sqrt(\\hbar/m\\omega)$$\n",
    "If our $\\psi$ were in terms of x, we could integrate from $-\\infty$ to $-a$ but unfortunately we need in terms of $xi$. So $$\\xi (0) = \\sqrt(m\\omega/\\hbar)a$$"
   ]
  },
  {
   "cell_type": "code",
   "execution_count": 19,
   "metadata": {
    "collapsed": false
   },
   "outputs": [
    {
     "data": {
      "image/png": "[encoded data removed]",
      "text/latex": [
       "$$\\frac{\\sqrt{m} \\sqrt{\\omega}}{4 \\sqrt{\\hbar}} \\left(- \\operatorname{erf}{\\left (1 \\right )} + 1\\right)$$"
      ],
      "text/plain": [
       "√m⋅√ω⋅(-erf(1) + 1)\n",
       "───────────────────\n",
       "        4⋅√ℏ       "
      ]
     },
     "execution_count": 19,
     "metadata": {},
     "output_type": "execute_result"
    }
   ],
   "source": [
    "a = sp.sqrt(hbar/(m*omega))\n",
    "xi0 = sp.sqrt(m*omega/hbar)\n",
    "Probneg = sp.integrate(psi0**2, (xi, -sp.oo, -1))\n",
    "sp.simplify(Probneg)"
   ]
  },
  {
   "cell_type": "markdown",
   "metadata": {},
   "source": [
    "This is only the outer region left of the classically allowed region, so I could likely just multiply by 2, but just to be safe I'll integrate $[1,\\infty)$ and add the two together."
   ]
  },
  {
   "cell_type": "code",
   "execution_count": 20,
   "metadata": {
    "collapsed": false
   },
   "outputs": [
    {
     "data": {
      "image/png": "[encoded data removed]",
      "text/latex": [
       "$$\\frac{\\sqrt{m} \\sqrt{\\omega}}{4 \\sqrt{\\hbar}} \\left(- \\operatorname{erf}{\\left (1 \\right )} + 1\\right)$$"
      ],
      "text/plain": [
       "√m⋅√ω⋅(-erf(1) + 1)\n",
       "───────────────────\n",
       "        4⋅√ℏ       "
      ]
     },
     "execution_count": 20,
     "metadata": {},
     "output_type": "execute_result"
    }
   ],
   "source": [
    "Probpos = sp.integrate(psi0**2, (xi, 1, sp.oo))\n",
    "sp.simplify(Probpos)"
   ]
  },
  {
   "cell_type": "code",
   "execution_count": 22,
   "metadata": {
    "collapsed": false
   },
   "outputs": [
    {
     "data": {
      "image/png": "[encoded data removed]",
      "text/latex": [
       "$$\\frac{\\sqrt{m} \\sqrt{\\omega}}{2 \\sqrt{\\hbar}} \\left(- \\operatorname{erf}{\\left (1 \\right )} + 1\\right)$$"
      ],
      "text/plain": [
       "√m⋅√ω⋅(-erf(1) + 1)\n",
       "───────────────────\n",
       "        2⋅√ℏ       "
      ]
     },
     "execution_count": 22,
     "metadata": {},
     "output_type": "execute_result"
    }
   ],
   "source": [
    "Prob = Probneg+Probpos\n",
    "sp.simplify(Prob)"
   ]
  },
  {
   "cell_type": "markdown",
   "metadata": {},
   "source": [
    "I was correct in that the function is symmetrical about the y-axis. Now i can just find the value of the error function at $1$, which is $.843$ to 3 sigfigs. \n"
   ]
  },
  {
   "cell_type": "code",
   "execution_count": 24,
   "metadata": {
    "collapsed": false
   },
   "outputs": [
    {
     "data": {
      "image/png": "[encoded data removed]",
      "text/latex": [
       "$$\\frac{0.0785}{\\sqrt{\\hbar}} \\sqrt{m \\omega}$$"
      ],
      "text/plain": [
       "         _____\n",
       "0.0785⋅╲╱ m⋅ω \n",
       "──────────────\n",
       "      √ℏ      "
      ]
     },
     "execution_count": 24,
     "metadata": {},
     "output_type": "execute_result"
    }
   ],
   "source": [
    "sp.sqrt(m*omega/hbar)/2*(1-.843)"
   ]
  },
  {
   "cell_type": "code",
   "execution_count": null,
   "metadata": {
    "collapsed": true
   },
   "outputs": [],
   "source": []
  }
 ],
 "metadata": {
  "kernelspec": {
   "display_name": "Python [physics362]",
   "language": "python",
   "name": "Python [physics362]"
  },
  "language_info": {
   "codemirror_mode": {
    "name": "ipython",
    "version": 3
   },
   "file_extension": ".py",
   "mimetype": "text/x-python",
   "name": "python",
   "nbconvert_exporter": "python",
   "pygments_lexer": "ipython3",
   "version": "3.5.2"
  }
 },
 "nbformat": 4,
 "nbformat_minor": 0
}
